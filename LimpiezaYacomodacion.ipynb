{
 "cells": [
  {
   "cell_type": "code",
   "execution_count": 1,
   "metadata": {},
   "outputs": [],
   "source": [
    "## Pandas para manejo de Data Frames \n",
    "import pandas as pd\n",
    "## Date Time para manejo de Fechas\n",
    "import datetime \n",
    "## Relacionar script con sharepoint\n",
    "import requests\n",
    "from requests.auth import HTTPBasicAuth\n",
    "import urllib\n",
    "\n",
    "## Oculto advertencias\n",
    "import warnings\n",
    "warnings.filterwarnings(\"ignore\")\n",
    "\n"
   ]
  },
  {
   "cell_type": "code",
   "execution_count": null,
   "metadata": {},
   "outputs": [],
   "source": []
  },
  {
   "cell_type": "code",
   "execution_count": null,
   "metadata": {},
   "outputs": [],
   "source": []
  },
  {
   "cell_type": "markdown",
   "metadata": {},
   "source": [
    "#IMPORTACION#"
   ]
  },
  {
   "cell_type": "code",
   "execution_count": 2,
   "metadata": {},
   "outputs": [],
   "source": [
    "fb=pd.read_excel(r\"C:\\Users\\lkuringhian\\Desktop\\descargas keepcon\\face semana 26.xlsx\",sheet_name = \"Publicaciones de la Marca\" )\n",
    "ig=pd.read_excel(r\"C:\\Users\\lkuringhian\\Desktop\\descargas keepcon\\instagram semana 26.xlsx\",sheet_name = \"Publicaciones de la Marca\" )"
   ]
  },
  {
   "cell_type": "markdown",
   "metadata": {},
   "source": [
    "#REEMPLAZO EL NOMBRE DE CUENTA#"
   ]
  },
  {
   "cell_type": "code",
   "execution_count": 31,
   "metadata": {},
   "outputs": [],
   "source": [
    "### FILTRO EL APOSTROFE EN MC DONALD'S FACEBOOK\n",
    "Cuenta=fb['Nombre de Cuenta']\n",
    "x=[]\n",
    "for i in range(len(fb)):\n",
    "    x.append(Cuenta[i].replace(\"\\'\",\" \"))\n",
    "fb['Nombre de Cuenta']=x\n",
    "\n",
    "### REEMPLAZO NOMBRE DE CUENTA POR NOMBRE DEL PAIS PARA FACEBOOK\n",
    "y=[]\n",
    "for i in range(len(fb)):\n",
    "    y.append(x[i].replace(\"McDonald s AR\",\"Argentina\").replace('McDonald s (BR)','Brasil').replace('McDonald s (CL)','Chile').replace('McDonald s (CR)','Costa Rica').replace('McDonald s (EC)','Ecuador').replace('McDonald s (PA)','Panama').replace('McDonald s (CO)','Colombia').replace('McDonald s (MX)','Mexico').replace('McDonald s (PR)','Puerto Rico').replace('McDonald s (UY)','Uruguay').replace('McDonald s (VE)','Venezuela').replace('McDonald s (PE)','Peru'))\n",
    "fb['Nombre de Cuenta']=y\n",
    "\n",
    "\n",
    "### REEMPLAZO NOMBRE DE CUENTA POR NOMBRE DEL PAIS PARA INSTAGRAM\n",
    "\n",
    "igpais=ig['Nombre de Cuenta']\n",
    "\n",
    "p=[]\n",
    "for i in range(len(ig)):\n",
    "    p.append(igpais[i].replace('mcdonalds_pa','Panama').replace('mcdonalds_uy','Uruguay').replace('mcdonalds_ve','Venezuela').replace('mcdonaldscr','Costa Rica').replace('mcdonalds_ecu','Ecuador').replace('mcdonalds_ar','Argentina').replace('mcdonalds_peru','Peru').replace('mcdonalds_cl','Chile').replace('mcdonaldspr','Puerto Rico').replace('mcdonaldscol','Colombia').replace('mcdonaldsmx','Mexico').replace('mcdonalds_br','Brasil'))\n",
    "             \n",
    "ig['Nombre de Cuenta']=p\n"
   ]
  },
  {
   "cell_type": "code",
   "execution_count": 32,
   "metadata": {},
   "outputs": [],
   "source": [
    "#Calculo en Numero de la semana basado en el primer dato que tengo\n",
    "fb['Date'] = pd.to_datetime(fb['Fecha de Publicación'], dayfirst=False)\n",
    "fb['week_number'] = fb['Fecha de Publicación'].sub(pd.Timestamp('2020-04-27')).dt.days // 7 \n",
    "\n",
    "ig['Date'] = pd.to_datetime(ig['Fecha de Publicación'], dayfirst=False)\n",
    "ig['week_number'] = ig['Fecha de Publicación'].sub(pd.Timestamp('2020-04-27')).dt.days // 7 \n",
    "\n"
   ]
  },
  {
   "cell_type": "code",
   "execution_count": 33,
   "metadata": {},
   "outputs": [],
   "source": [
    "## Elimino los mensajes vacios en facebook  ### Pueden ser publicaciones Erroneas\n",
    "fb = fb.dropna(subset=['Mensaje'])\n",
    "## ELIMINO LOS MENSAJES VACIOS DE INSTAGRAM\n",
    "ig=ig.dropna(subset=['Mensaje'])\n",
    "\n",
    "## Elimino las Historias en Instagram\n",
    "ig=ig[~ig['Permalink'].str.contains(\"stories\")]\n"
   ]
  },
  {
   "cell_type": "markdown",
   "metadata": {},
   "source": [
    "Re-Calculo las columnas"
   ]
  },
  {
   "cell_type": "code",
   "execution_count": 34,
   "metadata": {},
   "outputs": [],
   "source": [
    "# Calculo en Facebook el alcance, total Engagement y Engagement Rate para evitar posibles erroes de la base \n",
    "\n",
    "fb['Total Reach']=fb['Alcance Pauta']+fb['Alcance Orgánico']\n",
    "fb['Total Reactions']=fb['Likes']+fb['Reacciones Sad']+fb['Reacciones Angry']+fb['Reacciones Love']+fb['Reacciones Wow']+fb['Reacciones Haha']\n",
    "fb['Total Engagement']=fb['Comentarios']+fb['Compartidos']+fb['Total Reactions']\n",
    "fb['Engagement Rate']=fb['Total Engagement']/fb['Total Reach']\n",
    "\n",
    "# Calculo lo mismo para Instagram\n",
    "\n",
    "ig['Total Engagement']=ig['Likes']+ig['Comentarios']\n",
    "ig['Engagement Rate']=ig['Total Engagement']/ig['Alcance']\n",
    "\n"
   ]
  },
  {
   "cell_type": "code",
   "execution_count": 35,
   "metadata": {},
   "outputs": [],
   "source": [
    "fb['day_of_week'] = fb['Fecha de Publicación'].dt.day_name()\n",
    "\n",
    "ig['day_of_week'] = ig['Fecha de Publicación'].dt.day_name()\n"
   ]
  },
  {
   "cell_type": "code",
   "execution_count": 36,
   "metadata": {},
   "outputs": [],
   "source": [
    "### CALCULO EL NUMERO DE SEMANA PARA FACEBOOK \n",
    "fe=fb['Fecha de Publicación'].dt.week\n",
    "fb['Numero de Semana']=fe\n",
    "\n",
    "## CALCULO EL NUMERO DE SEMANA PARA INSTAGRAM\n",
    "ige=ig['Fecha de Publicación'].dt.week\n",
    "ig['Numero de Semana']=ige\n",
    "\n",
    "#### AVERIGUAR COMO METER EL DIA DEL INICIO DE SEMANA A CADA SEMANA"
   ]
  },
  {
   "cell_type": "code",
   "execution_count": 45,
   "metadata": {},
   "outputs": [
    {
     "name": "stdout",
     "output_type": "stream",
     "text": [
      "False    598\n",
      "dtype: int64\n",
      "Correcto    598\n",
      "dtype: int64\n"
     ]
    }
   ],
   "source": [
    "# Busco publicaciones mal bajadas\n",
    "\n",
    "errorkeepface = (fb['Total Reach']-fb['Total Reactions'])<0 \n",
    "\n",
    "### REEMPLAZO TRUE VS A REVISAR Y FALSE POR CORRECTO IDENTIFICANDO LOS ERROES\n",
    "errorkeepface2 = errorkeepface.map( \n",
    "                   {True:'A revisar' ,False:'Correcto'})\n",
    "print(errorkeepface.value_counts())\n",
    "print(errorkeepface2.value_counts())"
   ]
  },
  {
   "cell_type": "code",
   "execution_count": 46,
   "metadata": {},
   "outputs": [
    {
     "data": {
      "text/plain": [
       "0      Correcto\n",
       "1      Correcto\n",
       "2      Correcto\n",
       "3      Correcto\n",
       "6      Correcto\n",
       "         ...   \n",
       "886    Correcto\n",
       "887    Correcto\n",
       "888    Correcto\n",
       "889    Correcto\n",
       "890    Correcto\n",
       "Length: 598, dtype: object"
      ]
     },
     "execution_count": 46,
     "metadata": {},
     "output_type": "execute_result"
    }
   ],
   "source": [
    "errorkeepface2"
   ]
  },
  {
   "cell_type": "code",
   "execution_count": 38,
   "metadata": {},
   "outputs": [],
   "source": [
    "### CREO TABLA CON LOS ERRORES DE KEEPCOM FACEBOOK   ## MEJOR LEGIBILIDAD\n",
    "fb['Error Reach vs Reactions']=errorkeepface2\n",
    "fberrores=fb[fb['Error Reach vs Reactions']=='A revisar']\n",
    "### REEMPLAZAR TRUE Y FALSE POR ALGO CORRECTOS  VS A REVISAR "
   ]
  },
  {
   "cell_type": "code",
   "execution_count": 39,
   "metadata": {},
   "outputs": [],
   "source": [
    "### Elimino los erroes de keepcon facebook \n",
    "\n",
    "fb=fb[fb['Error Reach vs Reactions']=='Correcto']\n"
   ]
  },
  {
   "cell_type": "code",
   "execution_count": 40,
   "metadata": {},
   "outputs": [
    {
     "name": "stdout",
     "output_type": "stream",
     "text": [
      "False    61\n",
      "dtype: int64\n",
      "Correcto    61\n",
      "dtype: int64\n"
     ]
    }
   ],
   "source": [
    "## Busco errores en keepcon y verifico\n",
    "\n",
    "errorkeepig=(ig['Alcance']-ig['Likes'])<0\n",
    "print(errorkeepig.value_counts())\n",
    "\n",
    "errorkeepig2 = errorkeepig.map( \n",
    "                   {True:'A revisar' ,False:'Correcto'})\n",
    "print(errorkeepig2.value_counts())\n",
    "\n"
   ]
  },
  {
   "cell_type": "code",
   "execution_count": 41,
   "metadata": {},
   "outputs": [
    {
     "name": "stdout",
     "output_type": "stream",
     "text": [
      "<class 'pandas.core.frame.DataFrame'>\n",
      "Int64Index: 598 entries, 0 to 890\n",
      "Data columns (total 38 columns):\n",
      " #   Column                            Non-Null Count  Dtype         \n",
      "---  ------                            --------------  -----         \n",
      " 0   Nombre de Cuenta                  598 non-null    object        \n",
      " 1   Id de Cuenta                      598 non-null    int64         \n",
      " 2   Tipo de Cuenta                    598 non-null    object        \n",
      " 3   Id de Publicación                 598 non-null    object        \n",
      " 4   Fecha de Publicación              598 non-null    datetime64[ns]\n",
      " 5   Mensaje                           598 non-null    object        \n",
      " 6   Permalink                         598 non-null    object        \n",
      " 7   Alcance Pauta                     598 non-null    int64         \n",
      " 8   Alcance Orgánico                  598 non-null    int64         \n",
      " 9   Alcance Total                     598 non-null    int64         \n",
      " 10  Reacciones                        598 non-null    int64         \n",
      " 11  Comentarios                       598 non-null    int64         \n",
      " 12  Compartidos                       598 non-null    int64         \n",
      " 13  Engagement Total                  598 non-null    int64         \n",
      " 14  Vistas de Videos                  598 non-null    int64         \n",
      " 15  Likes                             598 non-null    int64         \n",
      " 16  Reacciones Sad                    598 non-null    int64         \n",
      " 17  Reacciones Angry                  598 non-null    int64         \n",
      " 18  Reacciones Love                   598 non-null    int64         \n",
      " 19  Reacciones Wow                    598 non-null    int64         \n",
      " 20  Reacciones Haha                   598 non-null    int64         \n",
      " 21  Engagement Rate                   237 non-null    float64       \n",
      " 22  Comentarios Sentimiento Negativo  598 non-null    int64         \n",
      " 23  Comentarios Sentimiento Positivo  598 non-null    int64         \n",
      " 24  Comentarios Sentimiento Neutral   598 non-null    int64         \n",
      " 25  Comentarios sin Sentimiento       598 non-null    int64         \n",
      " 26  Total Comentarios Sentimiento     598 non-null    int64         \n",
      " 27  Comentarios de la Marca           598 non-null    int64         \n",
      " 28  Comentarios Netos                 598 non-null    int64         \n",
      " 29  Comentarios en CEM                598 non-null    int64         \n",
      " 30  Date                              598 non-null    datetime64[ns]\n",
      " 31  week_number                       598 non-null    int64         \n",
      " 32  Total Reach                       598 non-null    int64         \n",
      " 33  Total Reactions                   598 non-null    int64         \n",
      " 34  Total Engagement                  598 non-null    int64         \n",
      " 35  day_of_week                       598 non-null    object        \n",
      " 36  Numero de Semana                  598 non-null    int64         \n",
      " 37  Error Reach vs Reactions          598 non-null    object        \n",
      "dtypes: datetime64[ns](2), float64(1), int64(28), object(7)\n",
      "memory usage: 182.2+ KB\n"
     ]
    }
   ],
   "source": [
    "### CREO TABLA CON LOS ERROES DE INSTAGRAM\n",
    "ig['Error Reach vs Reactions']=errorkeepig2\n",
    "igerrores=ig[ig['Error Reach vs Reactions']=='A revisar']\n",
    "fb.info()"
   ]
  },
  {
   "cell_type": "code",
   "execution_count": 14,
   "metadata": {},
   "outputs": [],
   "source": [
    "## Filtro los Errores de Keepcon Instagram \n",
    "\n",
    "ig=ig[ig['Error Reach vs Reactions']=='Correcto']\n"
   ]
  },
  {
   "cell_type": "code",
   "execution_count": 15,
   "metadata": {},
   "outputs": [],
   "source": [
    "### Filtro facebook por Reach\n",
    "fb=fb[fb['Total Reach']>0]\n",
    "### Filtro Instagram por Reach\n",
    "ig=ig[ig['Alcance']>0]"
   ]
  },
  {
   "cell_type": "code",
   "execution_count": 16,
   "metadata": {},
   "outputs": [],
   "source": [
    "### Filtro Facebooks por Engagement total\n",
    "fb=fb[fb['Engagement Total']>0]\n",
    "\n",
    "### Filtro Instagram segun Engagement Total\n",
    "ig=ig[ig['Engagement Total']>0]"
   ]
  },
  {
   "cell_type": "code",
   "execution_count": 17,
   "metadata": {},
   "outputs": [],
   "source": [
    "## ARMO TABLAS CON LOS DATOS DE CADA PAIS DE FACEBOOK\n",
    "\n",
    "fbargentina=fb[fb['Nombre de Cuenta']=='Argentina']\n",
    "fbbrasil=fb[fb['Nombre de Cuenta']=='Brasil']\n",
    "fbperu=fb[fb['Nombre de Cuenta']=='Peru']\n",
    "fbchile=fb[fb['Nombre de Cuenta']=='Chile']\n",
    "fbpanama=fb[fb['Nombre de Cuenta']=='Panama']\n",
    "fbcolombia=fb[fb['Nombre de Cuenta']=='Colombia']\n",
    "fbvenezuela=fb[fb['Nombre de Cuenta']=='Venezuela']\n",
    "fbecuador=fb[fb['Nombre de Cuenta']=='Ecuador']\n",
    "fbpuertorico=fb[fb['Nombre de Cuenta']=='Puerto Rico']\n",
    "fbcostarica=fb[fb['Nombre de Cuenta']=='Costa Rica']\n",
    "fbmexico=fb[fb['Nombre de Cuenta']=='Mexico']\n",
    "fburuguay=fb[fb['Nombre de Cuenta']=='Uruguay']\n",
    "\n",
    "\n",
    "### ## ARMO TABLAS CON LOS DATOS DE CADA PAIS DE INSTAGRAM\n",
    "\n",
    "igargentina=ig[ig['Nombre de Cuenta']=='Argentina']\n",
    "igbrasil=ig[ig['Nombre de Cuenta']=='Brasil']\n",
    "igperu=ig[ig['Nombre de Cuenta']=='Peru']\n",
    "igchile=ig[ig['Nombre de Cuenta']=='Chile']\n",
    "igpanama=ig[ig['Nombre de Cuenta']=='Panama']\n",
    "igcolombia=ig[ig['Nombre de Cuenta']=='Colombia']\n",
    "igvenezuela=ig[ig['Nombre de Cuenta']=='Venezuela']\n",
    "igecuador=ig[ig['Nombre de Cuenta']=='Ecuador']\n",
    "igpuertorico=ig[ig['Nombre de Cuenta']=='Puerto Rico']\n",
    "igcostarica=ig[ig['Nombre de Cuenta']=='Costa Rica']\n",
    "igmexico=ig[ig['Nombre de Cuenta']=='Mexico']\n",
    "iguruguay=ig[ig['Nombre de Cuenta']=='Uruguay']\n"
   ]
  },
  {
   "cell_type": "code",
   "execution_count": 18,
   "metadata": {},
   "outputs": [],
   "source": [
    "## ELIMINO EL PERCENTIL 20 CON RESPECTO AL ALCANCE TOTAL\n",
    "\n",
    "# Armo percentiles con respecto al alcance total para cada uno de los paises de facebook\n",
    "fbargentina[\"Percentil\"]=fbargentina['Alcance Total'].rank(pct=True)\n",
    "fbbrasil[\"Percentil\"]=fbbrasil['Alcance Total'].rank(pct=True)\n",
    "fbperu[\"Percentil\"]=fbperu['Alcance Total'].rank(pct=True)\n",
    "fbchile[\"Percentil\"]=fbchile['Alcance Total'].rank(pct=True)\n",
    "fbpanama[\"Percentil\"]=fbpanama['Alcance Total'].rank(pct=True)\n",
    "fbcolombia[\"Percentil\"]=fbcolombia['Alcance Total'].rank(pct=True)\n",
    "fbvenezuela[\"Percentil\"]=fbvenezuela['Alcance Total'].rank(pct=True)\n",
    "fbecuador[\"Percentil\"]=fbecuador['Alcance Total'].rank(pct=True)\n",
    "fbpuertorico[\"Percentil\"]=fbpuertorico['Alcance Total'].rank(pct=True)\n",
    "fbcostarica[\"Percentil\"]=fbcostarica['Alcance Total'].rank(pct=True)\n",
    "fbmexico[\"Percentil\"]=fbmexico['Alcance Total'].rank(pct=True)\n",
    "fburuguay[\"Percentil\"]=fburuguay['Alcance Total'].rank(pct=True)\n",
    "\n",
    "\n"
   ]
  },
  {
   "cell_type": "code",
   "execution_count": 19,
   "metadata": {},
   "outputs": [],
   "source": [
    "# Armo percentiles con respecto al alcance total para cada uno de los paises de instagram\n",
    "\n",
    "igargentina[\"Percentil\"]=igargentina['Alcance'].rank(pct=True)\n",
    "igbrasil[\"Percentil\"]=igbrasil['Alcance'].rank(pct=True)\n",
    "igperu[\"Percentil\"]=igperu['Alcance'].rank(pct=True)\n",
    "igchile[\"Percentil\"]=igchile['Alcance'].rank(pct=True)\n",
    "igpanama[\"Percentil\"]=igpanama['Alcance'].rank(pct=True)\n",
    "igcolombia[\"Percentil\"]=igcolombia['Alcance'].rank(pct=True)\n",
    "igvenezuela[\"Percentil\"]=igvenezuela['Alcance'].rank(pct=True)\n",
    "igecuador[\"Percentil\"]=igecuador['Alcance'].rank(pct=True)\n",
    "igpuertorico[\"Percentil\"]=igpuertorico['Alcance'].rank(pct=True)\n",
    "igcostarica[\"Percentil\"]=igcostarica['Alcance'].rank(pct=True)\n",
    "igmexico[\"Percentil\"]=igmexico['Alcance'].rank(pct=True)\n",
    "iguruguay[\"Percentil\"]=iguruguay['Alcance'].rank(pct=True)\n"
   ]
  },
  {
   "cell_type": "code",
   "execution_count": 20,
   "metadata": {},
   "outputs": [],
   "source": [
    "## FILTRO EL PERCENTIL 20 DE CADA PAIS DE FACEBOOK\n",
    "\n",
    "fbargentina=fbargentina[fbargentina[\"Percentil\"]>=0.2]\n",
    "fbbrasil=fbbrasil[fbbrasil[\"Percentil\"]>=0.2]\n",
    "fbperu=fbperu[fbperu[\"Percentil\"]>=0.2]\n",
    "fbchile=fbchile[fbchile[\"Percentil\"]>=0.2]\n",
    "fbpanama=fbpanama[fbpanama[\"Percentil\"]>=0.2]\n",
    "fbcolombia=fbcolombia[fbcolombia[\"Percentil\"]>=0.2]\n",
    "fbvenezuela=fbvenezuela[fbvenezuela[\"Percentil\"]>=0.2]\n",
    "fbecuador=fbecuador[fbecuador[\"Percentil\"]>=0.2]\n",
    "fbpuertorico=fbpuertorico[fbpuertorico[\"Percentil\"]>=0.2]\n",
    "fbcostarica=fbcostarica[fbcostarica[\"Percentil\"]>=0.2]\n",
    "fbmexico=fbmexico[fbmexico[\"Percentil\"]>=0.2]\n",
    "fburuguay=fburuguay[fburuguay[\"Percentil\"]>=0.2]"
   ]
  },
  {
   "cell_type": "code",
   "execution_count": 21,
   "metadata": {},
   "outputs": [],
   "source": [
    "topfbargentina=fbargentina.nlargest(3,'Engagement Total')\n",
    "topfbbrasil=fbbrasil.nlargest(3,'Engagement Total')\n",
    "topfbperu=fbperu.nlargest(3,'Engagement Total')\n",
    "topfbchile=fbchile.nlargest(3,'Engagement Total')\n",
    "topfbpanama=fbpanama.nlargest(3,'Engagement Total')\n",
    "topfbcolombia=fbcolombia.nlargest(3,'Engagement Total')\n",
    "topfbvenezuela=fbvenezuela.nlargest(3,'Engagement Total')\n",
    "topfbecuador=fbecuador.nlargest(3,'Engagement Total')\n",
    "topfbpuertorico=fbpuertorico.nlargest(3,'Engagement Total')\n",
    "topfbcostarica=fbcostarica.nlargest(3,'Engagement Total')\n",
    "topfbmexico=fbmexico.nlargest(3,'Engagement Total')\n",
    "topfburuguay=fburuguay.nlargest(3,'Engagement Total')\n",
    "\n",
    "topigargentina=igargentina.nlargest(3,'Engagement Total')\n",
    "topigbrasil=igbrasil.nlargest(3,'Engagement Total')\n",
    "topigperu=igperu.nlargest(3,'Engagement Total')\n",
    "topigchile=igchile.nlargest(3,'Engagement Total')\n",
    "topigpanama=igpanama.nlargest(3,'Engagement Total')\n",
    "topigcolombia=igcolombia.nlargest(3,'Engagement Total')\n",
    "topigvenezuela=igvenezuela.nlargest(3,'Engagement Total')\n",
    "topigecuador=igecuador.nlargest(3,'Engagement Total')\n",
    "topigpuertorico=igpuertorico.nlargest(3,'Engagement Total')\n",
    "topigcostarica=igcostarica.nlargest(3,'Engagement Total')\n",
    "topigmexico=igmexico.nlargest(3,'Engagement Total')\n",
    "topiguruguay=iguruguay.nlargest(3,'Engagement Total')\n"
   ]
  },
  {
   "cell_type": "code",
   "execution_count": 22,
   "metadata": {},
   "outputs": [
    {
     "data": {
      "text/html": [
       "<div>\n",
       "<style scoped>\n",
       "    .dataframe tbody tr th:only-of-type {\n",
       "        vertical-align: middle;\n",
       "    }\n",
       "\n",
       "    .dataframe tbody tr th {\n",
       "        vertical-align: top;\n",
       "    }\n",
       "\n",
       "    .dataframe thead th {\n",
       "        text-align: right;\n",
       "    }\n",
       "</style>\n",
       "<table border=\"1\" class=\"dataframe\">\n",
       "  <thead>\n",
       "    <tr style=\"text-align: right;\">\n",
       "      <th></th>\n",
       "      <th>Nombre de Cuenta</th>\n",
       "      <th>Permalink</th>\n",
       "      <th>Engagement Total</th>\n",
       "      <th>Alcance Total</th>\n",
       "    </tr>\n",
       "  </thead>\n",
       "  <tbody>\n",
       "    <tr>\n",
       "      <th>4761</th>\n",
       "      <td>Argentina</td>\n",
       "      <td>http://www.facebook.com/79667539019/posts/6969...</td>\n",
       "      <td>9728</td>\n",
       "      <td>7736213</td>\n",
       "    </tr>\n",
       "    <tr>\n",
       "      <th>13531</th>\n",
       "      <td>Argentina</td>\n",
       "      <td>http://www.facebook.com/79667539019/posts/6969...</td>\n",
       "      <td>9728</td>\n",
       "      <td>7736213</td>\n",
       "    </tr>\n",
       "    <tr>\n",
       "      <th>4262</th>\n",
       "      <td>Argentina</td>\n",
       "      <td>http://www.facebook.com/79667539019/posts/7040...</td>\n",
       "      <td>8414</td>\n",
       "      <td>2496638</td>\n",
       "    </tr>\n",
       "  </tbody>\n",
       "</table>\n",
       "</div>"
      ],
      "text/plain": [
       "      Nombre de Cuenta                                          Permalink  \\\n",
       "4761         Argentina  http://www.facebook.com/79667539019/posts/6969...   \n",
       "13531        Argentina  http://www.facebook.com/79667539019/posts/6969...   \n",
       "4262         Argentina  http://www.facebook.com/79667539019/posts/7040...   \n",
       "\n",
       "       Engagement Total  Alcance Total  \n",
       "4761               9728        7736213  \n",
       "13531              9728        7736213  \n",
       "4262               8414        2496638  "
      ]
     },
     "execution_count": 22,
     "metadata": {},
     "output_type": "execute_result"
    }
   ],
   "source": [
    "topfbarg2=topfbargentina[['Nombre de Cuenta','Permalink','Engagement Total','Alcance Total']]\n",
    "topfbbrasil2=topfbbrasil[['Nombre de Cuenta','Permalink','Engagement Total','Alcance Total']]\n",
    "topfbperu2=topfbperu[['Nombre de Cuenta','Permalink','Engagement Total','Alcance Total']]\n",
    "topfbchile2=topfbchile[['Nombre de Cuenta','Permalink','Engagement Total','Alcance Total']]\n",
    "topfbpanama2=topfbpanama[['Nombre de Cuenta','Permalink','Engagement Total','Alcance Total']]\n",
    "topfbcolombia2=topfbcolombia[['Nombre de Cuenta','Permalink','Engagement Total','Alcance Total']]\n",
    "topfbvenezuela2=topfbvenezuela[['Nombre de Cuenta','Permalink','Engagement Total','Alcance Total']]\n",
    "topfbecuador2=topfbecuador[['Nombre de Cuenta','Permalink','Engagement Total','Alcance Total']]\n",
    "topfbpuertorico2=topfbpuertorico[['Nombre de Cuenta','Permalink','Engagement Total','Alcance Total']]\n",
    "topfbcostarica2=topfbcostarica[['Nombre de Cuenta','Permalink','Engagement Total','Alcance Total']]\n",
    "topfbmexico2=topfbmexico[['Nombre de Cuenta','Permalink','Engagement Total','Alcance Total']]\n",
    "topfburuguay2=topfburuguay[['Nombre de Cuenta','Permalink','Engagement Total','Alcance Total']]\n",
    "\n",
    "\n",
    "topigargentina2=topigargentina[['Nombre de Cuenta','Permalink','Engagement Total','Alcance']]\n",
    "topigbrasil2=topigbrasil[['Nombre de Cuenta','Permalink','Engagement Total','Alcance']]\n",
    "topigperu2=topigperu[['Nombre de Cuenta','Permalink','Engagement Total','Alcance']]\n",
    "topigchile2=topigchile[['Nombre de Cuenta','Permalink','Engagement Total','Alcance']]\n",
    "topigpanama2=topigpanama[['Nombre de Cuenta','Permalink','Engagement Total','Alcance']]\n",
    "topigcolombia2=topigcolombia[['Nombre de Cuenta','Permalink','Engagement Total','Alcance']]\n",
    "topigvenezuela2=topigvenezuela[['Nombre de Cuenta','Permalink','Engagement Total','Alcance']]\n",
    "topigecuador2=topigecuador[['Nombre de Cuenta','Permalink','Engagement Total','Alcance']]\n",
    "topigpuertorico2=topigpuertorico[['Nombre de Cuenta','Permalink','Engagement Total','Alcance']]\n",
    "topigcostarica2=topigcostarica[['Nombre de Cuenta','Permalink','Engagement Total','Alcance']]\n",
    "topigmexico2=topigmexico[['Nombre de Cuenta','Permalink','Engagement Total','Alcance']]\n",
    "topiguruguay2=topiguruguay[['Nombre de Cuenta','Permalink','Engagement Total','Alcance']]\n",
    "topfbarg2"
   ]
  },
  {
   "cell_type": "code",
   "execution_count": 23,
   "metadata": {},
   "outputs": [],
   "source": [
    "## HAGO MERGE DE LOS DATA FRAMES DE FACEBOOK\n",
    "fbtop=[topfbarg2,topfbbrasil2,topfbperu2,topfbchile2,topfbpanama2,topfbcolombia2,topfbvenezuela2,topfbecuador2,topfbpuertorico2,topfbcostarica2,topfbmexico2,topfburuguay2]\n",
    "topfb = pd.concat(fbtop)\n",
    "\n",
    "\n",
    "\n",
    "## HAGO MERGE DE LOS DATA FRAMES DE FACEBOOK\n",
    "igtop=[topigargentina2,topigbrasil2,topigperu2,topigchile2,topigpanama2,topigcolombia2,topigvenezuela2,topigecuador2,topigpuertorico2,topigcostarica2,topigmexico2,topiguruguay2]\n",
    "topig = pd.concat(igtop)"
   ]
  },
  {
   "cell_type": "code",
   "execution_count": 24,
   "metadata": {},
   "outputs": [],
   "source": [
    "a='Argentina'\n",
    "b='Brasil'\n",
    "c='Colombia'\n",
    "d='Chile'\n",
    "e='Panama'\n",
    "f='Venezuela'\n",
    "g='Ecuador'\n",
    "h='Puerto Rico'\n",
    "i='Costa Rica'\n",
    "j='Mexico'\n",
    "k='Uruguay'\n",
    "l='Peru'"
   ]
  },
  {
   "cell_type": "code",
   "execution_count": 25,
   "metadata": {},
   "outputs": [],
   "source": [
    "fbargentinagroup=fbargentina.groupby('week_number').agg({'Engagement Rate':['mean']})\n",
    "fbargentinagroup['Pais']=a\n",
    "\n",
    "fbbrasilgroup=fbbrasil.groupby('week_number').agg({'Engagement Rate':['mean']})\n",
    "fbbrasilgroup['Pais']=b\n",
    "\n",
    "fbcolombiagroup=fbcolombia.groupby('week_number').agg({'Engagement Rate':['mean']})\n",
    "fbcolombiagroup['Pais']=c\n",
    "\n",
    "fbchilegroup=fbchile.groupby('week_number').agg({'Engagement Rate':['mean']})\n",
    "fbchilegroup['Pais']=d\n",
    "\n",
    "fbpanamagroup=fbpanama.groupby('week_number').agg({'Engagement Rate':['mean']})\n",
    "fbpanamagroup['Pais']=e\n",
    "\n",
    "fbvenezuelagroup=fbvenezuela.groupby('week_number').agg({'Engagement Rate':['mean']})\n",
    "fbvenezuelagroup['Pais']=f\n",
    "\n",
    "fbecuadorgroup=fbecuador.groupby('week_number').agg({'Engagement Rate':['mean']})\n",
    "fbecuadorgroup['Pais']=g\n",
    "\n",
    "fbpuertoricogroup=fbpuertorico.groupby('week_number').agg({'Engagement Rate':['mean']})\n",
    "fbpuertoricogroup['Pais']=h\n",
    "\n",
    "fbcostaricagroup=fbcostarica.groupby('week_number').agg({'Engagement Rate':['mean']})\n",
    "fbcostaricagroup['Pais']=i\n",
    "\n",
    "fbmexicogroup=fbmexico.groupby('week_number').agg({'Engagement Rate':['mean']})\n",
    "fbmexicogroup['Pais']=j\n",
    "\n",
    "fburuguaygroup=fburuguay.groupby('week_number').agg({'Engagement Rate':['mean']})\n",
    "fburuguaygroup['Pais']=k\n",
    "\n",
    "fbperugroup=fbperu.groupby('week_number').agg({'Engagement Rate':['mean']})\n",
    "fbperugroup['Pais']=l"
   ]
  },
  {
   "cell_type": "code",
   "execution_count": 26,
   "metadata": {},
   "outputs": [],
   "source": [
    "igargentinagroup=igargentina.groupby('week_number').agg({'Engagement Rate':['mean']})\n",
    "igargentinagroup['Pais']=a\n",
    "\n",
    "igbrasilgroup=igbrasil.groupby('week_number').agg({'Engagement Rate':['mean']})\n",
    "igbrasilgroup['Pais']=b\n",
    "\n",
    "igcolombiagroup=igcolombia.groupby('week_number').agg({'Engagement Rate':['mean']})\n",
    "igcolombiagroup['Pais']=c\n",
    "\n",
    "igchilegroup=igchile.groupby('week_number').agg({'Engagement Rate':['mean']})\n",
    "igchilegroup['Pais']=d\n",
    "\n",
    "igpanamagroup=igpanama.groupby('week_number').agg({'Engagement Rate':['mean']})\n",
    "igpanamagroup['Pais']=e\n",
    "\n",
    "igvenezuelagroup=igvenezuela.groupby('week_number').agg({'Engagement Rate':['mean']})\n",
    "igvenezuelagroup['Pais']=f\n",
    "\n",
    "igecuadorgroup=igecuador.groupby('week_number').agg({'Engagement Rate':['mean']})\n",
    "igecuadorgroup['Pais']=g\n",
    "\n",
    "igpuertoricogroup=igpuertorico.groupby('week_number').agg({'Engagement Rate':['mean']})\n",
    "igpuertoricogroup['Pais']=h\n",
    "\n",
    "igcostaricagroup=igcostarica.groupby('week_number').agg({'Engagement Rate':['mean']})\n",
    "igcostaricagroup['Pais']=i\n",
    "\n",
    "igmexicogroup=igmexico.groupby('week_number').agg({'Engagement Rate':['mean']})\n",
    "igmexicogroup['Pais']=j\n",
    "\n",
    "iguruguaygroup=iguruguay.groupby('week_number').agg({'Engagement Rate':['mean']})\n",
    "iguruguaygroup['Pais']=k\n",
    "\n",
    "igperugroup=igperu.groupby('week_number').agg({'Engagement Rate':['mean']})\n",
    "igperugroup['Pais']=l"
   ]
  },
  {
   "cell_type": "code",
   "execution_count": 27,
   "metadata": {},
   "outputs": [],
   "source": [
    "fbargentinagroup['Benchmark Movil']=fbargentinagroup['Engagement Rate'].rolling(13).mean()\n",
    "\n",
    "fbbrasilgroup['Benchmark Movil']=fbbrasilgroup['Engagement Rate'].rolling(13).mean()\n",
    "\n",
    "fbcolombiagroup['Benchmark Movil']=fbcolombiagroup['Engagement Rate'].rolling(13).mean()\n",
    "\n",
    "fbchilegroup['Benchmark Movil']=fbchilegroup['Engagement Rate'].rolling(13).mean()\n",
    "\n",
    "fbpanamagroup['Benchmark Movil']=fbpanamagroup['Engagement Rate'].rolling(13).mean()\n",
    "\n",
    "fbvenezuelagroup['Benchmark Movil']=fbvenezuelagroup['Engagement Rate'].rolling(13).mean()\n",
    "\n",
    "fbecuadorgroup['Benchmark Movil']=fbecuadorgroup['Engagement Rate'].rolling(13).mean()\n",
    "\n",
    "fbpuertoricogroup['Benchmark Movil']=fbpuertoricogroup['Engagement Rate'].rolling(13).mean()\n",
    "\n",
    "fbcostaricagroup['Benchmark Movil']=fbcostaricagroup['Engagement Rate'].rolling(13).mean()\n",
    "\n",
    "fbmexicogroup['Benchmark Movil']=fbmexicogroup['Engagement Rate'].rolling(13).mean()\n",
    "\n",
    "fburuguaygroup['Benchmark Movil']=fburuguaygroup['Engagement Rate'].rolling(13).mean()\n",
    "\n",
    "fbperugroup['Benchmark Movil']=fbperugroup['Engagement Rate'].rolling(13).mean()"
   ]
  },
  {
   "cell_type": "code",
   "execution_count": null,
   "metadata": {},
   "outputs": [],
   "source": []
  },
  {
   "cell_type": "code",
   "execution_count": 28,
   "metadata": {},
   "outputs": [],
   "source": [
    "igargentinagroup['Benchmark Movil']=igargentinagroup['Engagement Rate'].rolling(13).mean()\n",
    "\n",
    "igbrasilgroup['Benchmark Movil']=igbrasilgroup['Engagement Rate'].rolling(13).mean()\n",
    "\n",
    "igcolombiagroup['Benchmark Movil']=igcolombiagroup['Engagement Rate'].rolling(13).mean()\n",
    "\n",
    "igchilegroup['Benchmark Movil']=igchilegroup['Engagement Rate'].rolling(13).mean()\n",
    "\n",
    "igpanamagroup['Benchmark Movil']=igpanamagroup['Engagement Rate'].rolling(13).mean()\n",
    "\n",
    "igvenezuelagroup['Benchmark Movil']=igvenezuelagroup['Engagement Rate'].rolling(13).mean()\n",
    "\n",
    "igecuadorgroup['Benchmark Movil']=igecuadorgroup['Engagement Rate'].rolling(13).mean()\n",
    "\n",
    "igpuertoricogroup['Benchmark Movil']=igpuertoricogroup['Engagement Rate'].rolling(13).mean()\n",
    "\n",
    "igcostaricagroup['Benchmark Movil']=igcostaricagroup['Engagement Rate'].rolling(13).mean()\n",
    "\n",
    "igmexicogroup['Benchmark Movil']=igmexicogroup['Engagement Rate'].rolling(13).mean()\n",
    "\n",
    "iguruguaygroup['Benchmark Movil']=iguruguaygroup['Engagement Rate'].rolling(13).mean()\n",
    "\n",
    "igperugroup['Benchmark Movil']=igperugroup['Engagement Rate'].rolling(13).mean()"
   ]
  },
  {
   "cell_type": "code",
   "execution_count": null,
   "metadata": {},
   "outputs": [],
   "source": []
  },
  {
   "cell_type": "code",
   "execution_count": null,
   "metadata": {},
   "outputs": [],
   "source": []
  },
  {
   "cell_type": "code",
   "execution_count": null,
   "metadata": {},
   "outputs": [],
   "source": []
  },
  {
   "cell_type": "code",
   "execution_count": 29,
   "metadata": {},
   "outputs": [],
   "source": [
    "## HAGO MERGE DE LOS DATA FRAMES DE FACEBOOK\n",
    "facebookmerge=[fbargentinagroup,fbbrasilgroup,fbperugroup,fbchilegroup,fbpanamagroup,fbcolombiagroup,fbvenezuelagroup,fbecuadorgroup,fbpuertoricogroup,fbcostaricagroup,fbmexicogroup,fburuguaygroup]\n",
    "fbench = pd.concat(facebookmerge)\n",
    "\n",
    "\n",
    "\n",
    "## HAGO MERGE DE LOS DATA FRAMES DE FACEBOOK\n",
    "instagrammerge=[igargentinagroup,igbrasilgroup,igperugroup,igchilegroup,igpanamagroup,igcolombiagroup,igvenezuelagroup,igecuadorgroup,igpuertoricogroup,igcostaricagroup,igmexicogroup,iguruguaygroup]\n",
    "igbench = pd.concat(instagrammerge)\n"
   ]
  },
  {
   "cell_type": "code",
   "execution_count": 30,
   "metadata": {},
   "outputs": [],
   "source": [
    "## HAGO MERGE DE LOS DATA FRAMES DE FACEBOOK\n",
    "facebookmerge2=[fbargentina,fbbrasil,fbperu,fbchile,fbpanama,fbcolombia,fbvenezuela,fbecuador,fbpuertorico,fbcostarica,fbmexico,fburuguay]\n",
    "fb = pd.concat(facebookmerge2)\n",
    "\n",
    "\n",
    "\n",
    "## HAGO MERGE DE LOS DATA FRAMES DE FACEBOOK\n",
    "instagrammerge2=[igargentina,igbrasil,igperu,igchile,igpanama,igcolombia,igvenezuela,igecuador,igpuertorico,igcostarica,igmexico,iguruguay]\n",
    "ig = pd.concat(instagrammerge2)\n"
   ]
  },
  {
   "cell_type": "code",
   "execution_count": 31,
   "metadata": {},
   "outputs": [],
   "source": [
    "###### CALCULO BENCHMARK \n",
    "\n",
    "#############  UNA VEZ QUE ESTA TODO LIMPIO Y ACOMODADO NOS ENFOCAMOS EN LOS CALCULOS Y OBTENER LA INFORMACION UTIL"
   ]
  },
  {
   "cell_type": "code",
   "execution_count": 32,
   "metadata": {},
   "outputs": [],
   "source": [
    "fbbenchmark=fb.groupby('Nombre de Cuenta').agg({'Total Engagement':['mean','count'],'Total Reach':['mean'],'Numero de Semana':['mean']})\n",
    "igbenchmark=ig.groupby('Nombre de Cuenta').agg({'Total Engagement':['mean','count'],'Alcance':['mean'],'Numero de Semana':['mean']})\n",
    "\n",
    "fbbenchindex=fbbenchmark.reset_index()\n",
    "fbbenchindex.columns=['Nombre de Cuenta','Total Engagement','Total Engagement Count','Total Reach Mean','Numero de Semana']\n",
    "igbenchmarkindex=igbenchmark.reset_index()\n",
    "igbenchmarkindex.columns=['Nombre de Cuenta','Total Engagement','Total Engagement Count','Total Reach Mean','Numero de Semana']"
   ]
  },
  {
   "cell_type": "code",
   "execution_count": null,
   "metadata": {},
   "outputs": [],
   "source": []
  },
  {
   "cell_type": "code",
   "execution_count": 33,
   "metadata": {},
   "outputs": [],
   "source": [
    "## CREO EXCEL PARA ACTUALIZAR EL KPI 1\n",
    "fbkpi=fb.groupby('Nombre de Cuenta').agg({'Engagement Rate':['count','mean']})\n",
    "igkpi=ig.groupby('Nombre de Cuenta').agg({'Engagement Rate':['count','mean']})"
   ]
  },
  {
   "cell_type": "code",
   "execution_count": 34,
   "metadata": {},
   "outputs": [],
   "source": [
    "## EXPORTO LOS ERRORES TANTO DE FACEBOOK COMO DE INSTAGRAM A UN EXCEL\n",
    "\n",
    "writer = pd.ExcelWriter('ErroresKeeerrpcon.xlsx', engine='xlsxwriter')\n",
    "\n",
    "fberrores.to_excel(writer, sheet_name='Errores Facebook')\n",
    "\n",
    "igerrores.to_excel(writer, sheet_name='Errores Instagram')\n",
    "\n",
    "writer.save()"
   ]
  },
  {
   "cell_type": "code",
   "execution_count": 35,
   "metadata": {},
   "outputs": [],
   "source": [
    "## EXPORT LOS BENCHMARK CALCULADOS TANTO PARA FACEBOOK COMO INSTAGRAM\n",
    "writer2 = pd.ExcelWriter('Benchmark.xlsx', engine='xlsxwriter')\n",
    "\n",
    "fbench.to_excel(writer2, sheet_name='Benchmark Facebook')\n",
    "\n",
    "igbench.to_excel(writer2, sheet_name='Benchmark Instagram')\n",
    "\n",
    "writer2.save()"
   ]
  },
  {
   "cell_type": "code",
   "execution_count": 91,
   "metadata": {},
   "outputs": [],
   "source": [
    "## EXPORTO LOS DATOS YA FILTRADOS A UN EXCEL\n",
    "writer3 = pd.ExcelWriter('Semana 26.xlsx', engine='xlsxwriter')\n",
    "\n",
    "fb.to_excel(writer3, sheet_name='Facebook')\n",
    "\n",
    "ig.to_excel(writer3, sheet_name='Instagram')\n",
    "\n",
    "writer3.save()"
   ]
  },
  {
   "cell_type": "code",
   "execution_count": 92,
   "metadata": {},
   "outputs": [],
   "source": [
    "## EXPORTO DATOS PARA LA ACTUALIZACION DEL KPI 1\n",
    "writer4 = pd.ExcelWriter('Actualizacion Kpi 1 .xlsx', engine='xlsxwriter')\n",
    "\n",
    "fbkpi.to_excel(writer4, sheet_name='Facebook')\n",
    "\n",
    "igkpi.to_excel(writer4, sheet_name='Instagram')\n",
    "\n",
    "writer4.save()"
   ]
  },
  {
   "cell_type": "code",
   "execution_count": 93,
   "metadata": {},
   "outputs": [],
   "source": [
    "## EXPORTO DATOS PARA LA ACTUALIZACION DEL KPI 1\n",
    "writer5 = pd.ExcelWriter('Actualizacion kpi 2.xlsx', engine='xlsxwriter')\n",
    "\n",
    "topfb.to_excel(writer5, sheet_name='Facebook')\n",
    "\n",
    "topig.to_excel(writer5, sheet_name='Instagram')\n",
    "\n",
    "writer5.save()"
   ]
  },
  {
   "cell_type": "code",
   "execution_count": null,
   "metadata": {},
   "outputs": [],
   "source": []
  },
  {
   "cell_type": "code",
   "execution_count": null,
   "metadata": {},
   "outputs": [],
   "source": []
  },
  {
   "cell_type": "code",
   "execution_count": 94,
   "metadata": {},
   "outputs": [],
   "source": [
    "## ARMO TABLAS CON LOS DATOS DE CADA PAIS DE FACEBOOK\n",
    "\n",
    "fbargentina=fb[fb['Nombre de Cuenta']=='Argentina']\n",
    "fbbrasil=fb[fb['Nombre de Cuenta']=='Brasil']\n",
    "fbperu=fb[fb['Nombre de Cuenta']=='Peru']\n",
    "fbchile=fb[fb['Nombre de Cuenta']=='Chile']\n",
    "fbpanama=fb[fb['Nombre de Cuenta']=='Panama']\n",
    "fbcolombia=fb[fb['Nombre de Cuenta']=='Colombia']\n",
    "fbvenezuela=fb[fb['Nombre de Cuenta']=='Venezuela']\n",
    "fbecuador=fb[fb['Nombre de Cuenta']=='Ecuador']\n",
    "fbpuertorico=fb[fb['Nombre de Cuenta']=='Puerto Rico']\n",
    "fbcostarica=fb[fb['Nombre de Cuenta']=='Costa Rica']\n",
    "fbmexico=fb[fb['Nombre de Cuenta']=='Mexico']\n",
    "fburuguay=fb[fb['Nombre de Cuenta']=='Uruguay']\n"
   ]
  },
  {
   "cell_type": "code",
   "execution_count": null,
   "metadata": {},
   "outputs": [],
   "source": []
  },
  {
   "cell_type": "code",
   "execution_count": null,
   "metadata": {},
   "outputs": [],
   "source": []
  },
  {
   "cell_type": "code",
   "execution_count": null,
   "metadata": {},
   "outputs": [],
   "source": []
  },
  {
   "cell_type": "code",
   "execution_count": null,
   "metadata": {},
   "outputs": [],
   "source": []
  },
  {
   "cell_type": "code",
   "execution_count": null,
   "metadata": {},
   "outputs": [],
   "source": []
  },
  {
   "cell_type": "code",
   "execution_count": null,
   "metadata": {},
   "outputs": [],
   "source": []
  },
  {
   "cell_type": "code",
   "execution_count": null,
   "metadata": {},
   "outputs": [],
   "source": []
  },
  {
   "cell_type": "code",
   "execution_count": null,
   "metadata": {},
   "outputs": [],
   "source": []
  },
  {
   "cell_type": "code",
   "execution_count": null,
   "metadata": {},
   "outputs": [],
   "source": []
  },
  {
   "cell_type": "code",
   "execution_count": null,
   "metadata": {},
   "outputs": [],
   "source": []
  },
  {
   "cell_type": "code",
   "execution_count": null,
   "metadata": {},
   "outputs": [],
   "source": []
  },
  {
   "cell_type": "code",
   "execution_count": null,
   "metadata": {},
   "outputs": [],
   "source": []
  },
  {
   "cell_type": "code",
   "execution_count": null,
   "metadata": {},
   "outputs": [],
   "source": []
  },
  {
   "cell_type": "code",
   "execution_count": null,
   "metadata": {},
   "outputs": [],
   "source": []
  },
  {
   "cell_type": "code",
   "execution_count": null,
   "metadata": {},
   "outputs": [],
   "source": []
  },
  {
   "cell_type": "code",
   "execution_count": null,
   "metadata": {},
   "outputs": [],
   "source": []
  },
  {
   "cell_type": "code",
   "execution_count": null,
   "metadata": {},
   "outputs": [],
   "source": []
  },
  {
   "cell_type": "code",
   "execution_count": null,
   "metadata": {},
   "outputs": [],
   "source": []
  },
  {
   "cell_type": "code",
   "execution_count": null,
   "metadata": {},
   "outputs": [],
   "source": []
  },
  {
   "cell_type": "code",
   "execution_count": null,
   "metadata": {},
   "outputs": [],
   "source": []
  },
  {
   "cell_type": "code",
   "execution_count": null,
   "metadata": {},
   "outputs": [],
   "source": []
  },
  {
   "cell_type": "code",
   "execution_count": null,
   "metadata": {},
   "outputs": [],
   "source": []
  },
  {
   "cell_type": "code",
   "execution_count": null,
   "metadata": {},
   "outputs": [],
   "source": []
  },
  {
   "cell_type": "code",
   "execution_count": null,
   "metadata": {},
   "outputs": [],
   "source": []
  },
  {
   "cell_type": "code",
   "execution_count": null,
   "metadata": {},
   "outputs": [],
   "source": []
  },
  {
   "cell_type": "code",
   "execution_count": null,
   "metadata": {},
   "outputs": [],
   "source": []
  },
  {
   "cell_type": "markdown",
   "metadata": {},
   "source": [
    "## CONTINUARA... #"
   ]
  },
  {
   "cell_type": "code",
   "execution_count": null,
   "metadata": {},
   "outputs": [],
   "source": [
    "\n"
   ]
  },
  {
   "cell_type": "code",
   "execution_count": null,
   "metadata": {},
   "outputs": [],
   "source": []
  },
  {
   "cell_type": "code",
   "execution_count": null,
   "metadata": {},
   "outputs": [],
   "source": []
  },
  {
   "cell_type": "code",
   "execution_count": null,
   "metadata": {},
   "outputs": [],
   "source": []
  },
  {
   "cell_type": "code",
   "execution_count": null,
   "metadata": {},
   "outputs": [],
   "source": []
  },
  {
   "cell_type": "code",
   "execution_count": null,
   "metadata": {},
   "outputs": [],
   "source": []
  },
  {
   "cell_type": "code",
   "execution_count": null,
   "metadata": {},
   "outputs": [],
   "source": []
  },
  {
   "cell_type": "code",
   "execution_count": 2,
   "metadata": {},
   "outputs": [],
   "source": [
    "paises=('Argentina','Brasil')"
   ]
  },
  {
   "cell_type": "code",
   "execution_count": null,
   "metadata": {},
   "outputs": [],
   "source": []
  },
  {
   "cell_type": "code",
   "execution_count": 7,
   "metadata": {},
   "outputs": [],
   "source": []
  },
  {
   "cell_type": "code",
   "execution_count": 9,
   "metadata": {},
   "outputs": [
    {
     "ename": "SyntaxError",
     "evalue": "invalid syntax (<ipython-input-9-191681f599fa>, line 3)",
     "output_type": "error",
     "traceback": [
      "\u001b[1;36m  File \u001b[1;32m\"<ipython-input-9-191681f599fa>\"\u001b[1;36m, line \u001b[1;32m3\u001b[0m\n\u001b[1;33m    if oo[i]=='Nombre de Cuenta'\u001b[0m\n\u001b[1;37m                                ^\u001b[0m\n\u001b[1;31mSyntaxError\u001b[0m\u001b[1;31m:\u001b[0m invalid syntax\n"
     ]
    }
   ],
   "source": []
  },
  {
   "cell_type": "code",
   "execution_count": null,
   "metadata": {},
   "outputs": [],
   "source": []
  },
  {
   "cell_type": "code",
   "execution_count": null,
   "metadata": {},
   "outputs": [],
   "source": []
  },
  {
   "cell_type": "code",
   "execution_count": null,
   "metadata": {},
   "outputs": [],
   "source": []
  },
  {
   "cell_type": "code",
   "execution_count": null,
   "metadata": {},
   "outputs": [],
   "source": []
  },
  {
   "cell_type": "code",
   "execution_count": null,
   "metadata": {},
   "outputs": [],
   "source": []
  },
  {
   "cell_type": "code",
   "execution_count": null,
   "metadata": {},
   "outputs": [],
   "source": []
  },
  {
   "cell_type": "code",
   "execution_count": null,
   "metadata": {},
   "outputs": [],
   "source": []
  },
  {
   "cell_type": "code",
   "execution_count": null,
   "metadata": {},
   "outputs": [],
   "source": []
  },
  {
   "cell_type": "code",
   "execution_count": null,
   "metadata": {},
   "outputs": [],
   "source": []
  },
  {
   "cell_type": "code",
   "execution_count": null,
   "metadata": {},
   "outputs": [],
   "source": []
  },
  {
   "cell_type": "code",
   "execution_count": null,
   "metadata": {},
   "outputs": [],
   "source": []
  },
  {
   "cell_type": "code",
   "execution_count": null,
   "metadata": {},
   "outputs": [],
   "source": [
    "\n"
   ]
  },
  {
   "cell_type": "code",
   "execution_count": null,
   "metadata": {},
   "outputs": [],
   "source": []
  },
  {
   "cell_type": "code",
   "execution_count": null,
   "metadata": {},
   "outputs": [],
   "source": []
  },
  {
   "cell_type": "code",
   "execution_count": null,
   "metadata": {},
   "outputs": [],
   "source": []
  },
  {
   "cell_type": "code",
   "execution_count": null,
   "metadata": {},
   "outputs": [],
   "source": []
  },
  {
   "cell_type": "code",
   "execution_count": null,
   "metadata": {},
   "outputs": [],
   "source": []
  }
 ],
 "metadata": {
  "kernelspec": {
   "display_name": "Python 3",
   "language": "python",
   "name": "python3"
  },
  "language_info": {
   "codemirror_mode": {
    "name": "ipython",
    "version": 3
   },
   "file_extension": ".py",
   "mimetype": "text/x-python",
   "name": "python",
   "nbconvert_exporter": "python",
   "pygments_lexer": "ipython3",
   "version": "3.8.8"
  }
 },
 "nbformat": 4,
 "nbformat_minor": 4
}
